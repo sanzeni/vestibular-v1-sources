{
 "cells": [
  {
   "cell_type": "markdown",
   "id": "19506247-523a-48c8-9c29-683c4bb06b98",
   "metadata": {},
   "source": [
    "# Decoding instantaneous table velocity from V1 population activity"
   ]
  },
  {
   "cell_type": "code",
   "execution_count": 3,
   "id": "5c386d11-886f-45cb-a229-e649f52c9a0d",
   "metadata": {},
   "outputs": [
    {
     "name": "stdin",
     "output_type": "stream",
     "text": [
      "Once deleted, variables cannot be recovered. Proceed (y/[n])?  y\n"
     ]
    }
   ],
   "source": [
    "%reset\n",
    "# Core\n",
    "import os\n",
    "import numpy as np\n",
    "import pandas as pd\n",
    "import matplotlib.pyplot as plt\n",
    "\n",
    "# Reuse your decoding classes from the module you provided\n",
    "import functions_for_decoding as fun\n",
    "\n",
    "# Extras used in this notebook\n",
    "from scipy import stats\n",
    "import h5py\n",
    "import random\n",
    "\n",
    "# Reproducibility\n",
    "np.random.seed(0)\n",
    "random.seed(0)\n",
    "\n",
    "plt.rcParams['figure.dpi'] = 120\n",
    "plt.rcParams['figure.facecolor'] = 'white'\n"
   ]
  },
  {
   "cell_type": "markdown",
   "id": "9e1770a7-3245-474b-87d2-4a20c91888be",
   "metadata": {},
   "source": [
    "## Load data"
   ]
  },
  {
   "cell_type": "code",
   "execution_count": 5,
   "id": "e6386ae7-7ff0-4b60-830d-6fc0a0eddc16",
   "metadata": {},
   "outputs": [
    {
     "name": "stdout",
     "output_type": "stream",
     "text": [
      "resp: (2887, 100, 54) vel: (100, 54)\n",
      "info cols: ['Experiment', 'depth', 'n_cells']\n",
      "Experiments: ['LP' 'V1' 'V1_LED' 'V1_LED_MSC' 'V1_MSC']\n"
     ]
    }
   ],
   "source": [
    "def load_vestibular_v1_sources(filename=\"vestibular_V1_sources.h5\"):\n",
    "    out = {}\n",
    "    with h5py.File(filename, \"r\") as f:\n",
    "        out[\"responses\"] = {k: f[\"responses\"][k][()] for k in f[\"responses\"].keys()}\n",
    "        out[\"velocity\"]  = {k: f[\"velocity\"][k][()]  for k in f[\"velocity\"].keys()}\n",
    "        out[\"trial_direction\"] = f[\"metadata/trial_direction\"][()]\n",
    "        out[\"time\"]            = f[\"metadata/time\"][()]\n",
    "        # info table (column-by-column)\n",
    "        info = {}\n",
    "        for col in f[\"metadata/info\"].keys():\n",
    "            vals = f[\"metadata/info\"][col][()]\n",
    "            if len(vals)>0 and isinstance(vals[0], (bytes, np.bytes_)):\n",
    "                vals = [v.decode() for v in vals]\n",
    "            info[col] = vals\n",
    "        out[\"info\"] = pd.DataFrame(info)\n",
    "    return out\n",
    "\n",
    "# Put the .h5 next to this notebook\n",
    "DATAFILE = \"vestibular_V1_sources.h5\"\n",
    "ds = load_vestibular_v1_sources(DATAFILE)\n",
    "\n",
    "# Choose condition\n",
    "cond = \"control\"  # (\"MSC\", \"LED\", \"MSC_LED\" also available if present)\n",
    "resp = ds[\"responses\"][cond]   # shape: (neurons, time_in_trial, trials)\n",
    "vel  = ds[\"velocity\"][cond]    # shape: (time_in_trial, trials)\n",
    "info = ds[\"info\"]              # neuron metadata\n",
    "\n",
    "print(\"resp:\", resp.shape, \"vel:\", vel.shape)\n",
    "print(\"info cols:\", list(info.columns))\n",
    "print(\"Experiments:\", np.unique(info[\"Experiment\"]))\n"
   ]
  },
  {
   "cell_type": "markdown",
   "id": "e4e86286-c3ad-4794-b8f4-da4c7625d65f",
   "metadata": {},
   "source": [
    "## Build matrices for the decoder"
   ]
  },
  {
   "cell_type": "code",
   "execution_count": 6,
   "id": "ead688c1-250d-4cf5-8bfe-3a67708e84e6",
   "metadata": {},
   "outputs": [
    {
     "name": "stdout",
     "output_type": "stream",
     "text": [
      "V1 neurons: 2532 Total time bins: 5400\n"
     ]
    }
   ],
   "source": [
    "# The decoder expects:\n",
    "#   Bspikes: (neurons, total_time)\n",
    "#   Bvelocity: (total_time,)\n",
    "# Trials are 100 bins (10 s @ 100 ms)\n",
    "n, Ttrial, Ntr = resp.shape\n",
    "assert Ttrial == 100, f\"Expected trial length = 100 bins, got {Ttrial}\"\n",
    "\n",
    "# Flatten trials along time\n",
    "Bspikes_all = resp.transpose(0, 2, 1).reshape(n, Ttrial * Ntr)   # (n, 100*Ntr)\n",
    "Bvelocity   = vel.T.reshape(Ttrial * Ntr)                         # (100*Ntr,)\n",
    "\n",
    "# Keep only V1-side recordings (exclude LP). \n",
    "info[\"depth\"] = pd.to_numeric(info[\"depth\"], errors=\"coerce\")\n",
    "mask_v1 = (info[\"Experiment\"] != \"LP\") & (np.isfinite(info[\"depth\"])) & (info[\"depth\"] <= 1000)\n",
    "info_v1 = info.loc[mask_v1].reset_index(drop=True)\n",
    "\n",
    "Bspikes_v1 = Bspikes_all[mask_v1.values, :]\n",
    "\n",
    "# Replace NaNs (if any) to keep sklearn happy\n",
    "np.nan_to_num(Bspikes_v1, copy=False)\n",
    "np.nan_to_num(Bvelocity,   copy=False)\n",
    "\n",
    "print(\"V1 neurons:\", Bspikes_v1.shape[0], \"Total time bins:\", Bspikes_v1.shape[1])\n"
   ]
  },
  {
   "cell_type": "markdown",
   "id": "3af2fc3e-b496-4d93-9f6a-2785203cf6c7",
   "metadata": {},
   "source": [
    "## Run instantaneous velocity decoding (CW+CCW combined)"
   ]
  },
  {
   "cell_type": "code",
   "execution_count": 22,
   "id": "b4ffaa87-b213-4d41-9093-7ecd46b33f53",
   "metadata": {},
   "outputs": [
    {
     "name": "stdout",
     "output_type": "stream",
     "text": [
      "0\n",
      "1\n",
      "2\n",
      "3\n",
      "4\n",
      "5\n",
      "6\n",
      "7\n",
      "8\n",
      "9\n",
      "Vel: (10, 1080) Error2: (10, 1080) Error_v_Vel: (29, 4)\n"
     ]
    },
    {
     "name": "stderr",
     "output_type": "stream",
     "text": [
      "/usr/local/lib/python3.11/site-packages/numpy/core/fromnumeric.py:3504: RuntimeWarning: Mean of empty slice.\n",
      "  return _methods._mean(a, axis=axis, dtype=dtype,\n",
      "/usr/local/lib/python3.11/site-packages/numpy/core/_methods.py:129: RuntimeWarning: invalid value encountered in scalar divide\n",
      "  ret = ret.dtype.type(ret / rcount)\n",
      "/usr/local/lib/python3.11/site-packages/numpy/core/_methods.py:206: RuntimeWarning: Degrees of freedom <= 0 for slice\n",
      "  ret = _var(a, axis=axis, dtype=dtype, out=out, ddof=ddof,\n",
      "/usr/local/lib/python3.11/site-packages/numpy/core/_methods.py:163: RuntimeWarning: invalid value encountered in divide\n",
      "  arrmean = um.true_divide(arrmean, div, out=arrmean,\n",
      "/usr/local/lib/python3.11/site-packages/numpy/core/_methods.py:198: RuntimeWarning: invalid value encountered in scalar divide\n",
      "  ret = ret.dtype.type(ret / rcount)\n"
     ]
    }
   ],
   "source": [
    "# Hyperparameters (tune as needed)\n",
    "is_shuffled = 0                 # 0: real labels, 1: shuffled control\n",
    "fraction_cells_to_use = 1.0     # use all selected V1 neurons\n",
    "fraction_time_train = 0.8       # train/test split over time bins\n",
    "n_stat = 10                     # repetitions for SEM\n",
    "C = 1.0                         # logistic C (direction split inside non-linear decoder)\n",
    "alpha = 10**5                   # ridge alpha\n",
    "trial_duration = Ttrial         # 100 bins\n",
    "n_vel = 29                      # velocity bins to report RMSE vs velocity\n",
    "\n",
    "# Direction threshold for the non-linear scheme\n",
    "Bvel_th=1;\n",
    "\n",
    "# Use both directions (CW + CCW)\n",
    "idx_CW, idx_CCW = 1, 1\n",
    "\n",
    "dec = fun.instanteneous_velocity_decoding(\n",
    "    Bvelocity=Bvelocity,\n",
    "    Bspikes=Bspikes_v1,\n",
    "    is_shuffled=is_shuffled,\n",
    "    fraction_cells_to_use=fraction_cells_to_use,\n",
    "    fraction_time_train=fraction_time_train,\n",
    "    n_stat=n_stat,\n",
    "    C=C,\n",
    "    alpha=alpha,\n",
    "    trial_duration=trial_duration,\n",
    "    n_vel=n_vel,\n",
    "    Bvel_th=Bvel_th,\n",
    "    idx_CW=idx_CW,\n",
    "    idx_CCW=idx_CCW\n",
    ")\n",
    "\n",
    "Vel, Error2, Error_v_Vel = dec.evaluate_performance()\n",
    "print(\"Vel:\", Vel.shape, \"Error2:\", Error2.shape, \"Error_v_Vel:\", Error_v_Vel.shape)\n"
   ]
  },
  {
   "cell_type": "markdown",
   "id": "e27e20e1-6819-4010-8c41-2e7a5d8b4aa4",
   "metadata": {},
   "source": [
    "## Shuffled control"
   ]
  },
  {
   "cell_type": "code",
   "execution_count": 23,
   "id": "a0a46d68-07dd-48c8-af0e-94def5df0306",
   "metadata": {},
   "outputs": [
    {
     "name": "stdout",
     "output_type": "stream",
     "text": [
      "0\n",
      "1\n",
      "2\n",
      "3\n",
      "4\n",
      "5\n",
      "6\n",
      "7\n",
      "8\n",
      "9\n"
     ]
    },
    {
     "name": "stderr",
     "output_type": "stream",
     "text": [
      "/usr/local/lib/python3.11/site-packages/numpy/core/fromnumeric.py:3504: RuntimeWarning: Mean of empty slice.\n",
      "  return _methods._mean(a, axis=axis, dtype=dtype,\n",
      "/usr/local/lib/python3.11/site-packages/numpy/core/_methods.py:129: RuntimeWarning: invalid value encountered in scalar divide\n",
      "  ret = ret.dtype.type(ret / rcount)\n",
      "/usr/local/lib/python3.11/site-packages/numpy/core/_methods.py:206: RuntimeWarning: Degrees of freedom <= 0 for slice\n",
      "  ret = _var(a, axis=axis, dtype=dtype, out=out, ddof=ddof,\n",
      "/usr/local/lib/python3.11/site-packages/numpy/core/_methods.py:163: RuntimeWarning: invalid value encountered in divide\n",
      "  arrmean = um.true_divide(arrmean, div, out=arrmean,\n",
      "/usr/local/lib/python3.11/site-packages/numpy/core/_methods.py:198: RuntimeWarning: invalid value encountered in scalar divide\n",
      "  ret = ret.dtype.type(ret / rcount)\n"
     ]
    }
   ],
   "source": [
    "dec_shuf = fun.instanteneous_velocity_decoding(\n",
    "    Bvelocity=Bvelocity,\n",
    "    Bspikes=Bspikes_v1,\n",
    "    is_shuffled=1,  # shuffle train labels\n",
    "    fraction_cells_to_use=fraction_cells_to_use,\n",
    "    fraction_time_train=fraction_time_train,\n",
    "    n_stat=n_stat,\n",
    "    C=C,\n",
    "    alpha=alpha,\n",
    "    trial_duration=trial_duration,\n",
    "    n_vel=n_vel,\n",
    "    Bvel_th=Bvel_th,\n",
    "    idx_CW=idx_CW,\n",
    "    idx_CCW=idx_CCW\n",
    ")\n",
    "\n",
    "_, _, Error_v_Vel_shuf = dec_shuf.evaluate_performance()\n",
    "\n"
   ]
  },
  {
   "cell_type": "markdown",
   "id": "eade4ae1-9788-45a6-b53d-a4f6dfbff7c9",
   "metadata": {},
   "source": [
    "## Visualize performance"
   ]
  },
  {
   "cell_type": "code",
   "execution_count": 24,
   "id": "60fad4f2-8df8-4cdf-8e14-f8f48a8fb9fa",
   "metadata": {},
   "outputs": [
    {
     "data": {
      "image/png": "[encoded data removed]",
      "text/plain": [
       "<Figure size 720x480 with 1 Axes>"
      ]
     },
     "metadata": {},
     "output_type": "display_data"
    }
   ],
   "source": [
    "# --- Real ---\n",
    "vel_r  = Error_v_Vel[:, 0]\n",
    "rmse_r = Error_v_Vel[:, 1]\n",
    "sem_r  = Error_v_Vel[:, 2] if Error_v_Vel.shape[1] >= 3 else np.zeros_like(rmse_r)\n",
    "\n",
    "# --- Shuffled (optional) ---\n",
    "has_shuf = 'Error_v_Vel_shuf' in globals() and (Error_v_Vel_shuf is not None)\n",
    "if has_shuf:\n",
    "    vel_s  = Error_v_Vel_shuf[:, 0]\n",
    "    rmse_s = Error_v_Vel_shuf[:, 1]\n",
    "    sem_s  = Error_v_Vel_shuf[:, 2] if Error_v_Vel_shuf.shape[1] >= 3 else np.zeros_like(rmse_s)\n",
    "\n",
    "plt.figure(figsize=(6,4))\n",
    "\n",
    "# Real + band\n",
    "plt.plot(vel_r, rmse_r, '-o', lw=2, label='Real')\n",
    "plt.fill_between(vel_r, rmse_r - sem_r, rmse_r + sem_r, alpha=0.2)\n",
    "\n",
    "# Shuffled + band (if available)\n",
    "if has_shuf:\n",
    "    plt.plot(vel_s, rmse_s, '--o', lw=2, label='Shuffled')\n",
    "    plt.fill_between(vel_s, rmse_s - sem_s, rmse_s + sem_s, alpha=0.15)\n",
    "\n",
    "plt.axvline(0, color='k', lw=0.8, alpha=0.5)\n",
    "plt.xlabel(\"Velocity (cm/s)\")\n",
    "plt.ylabel(\"RMSE (cm/s)\")\n",
    "plt.title(f\"Instantaneous velocity decoding — {cond}\")\n",
    "plt.legend()\n",
    "plt.tight_layout()\n",
    "plt.show()\n"
   ]
  },
  {
   "cell_type": "code",
   "execution_count": null,
   "id": "9a2da34d-8cd7-4710-b221-63a5e2eab104",
   "metadata": {},
   "outputs": [],
   "source": []
  }
 ],
 "metadata": {
  "kernelspec": {
   "display_name": "Python 3 (ipykernel)",
   "language": "python",
   "name": "python3"
  },
  "language_info": {
   "codemirror_mode": {
    "name": "ipython",
    "version": 3
   },
   "file_extension": ".py",
   "mimetype": "text/x-python",
   "name": "python",
   "nbconvert_exporter": "python",
   "pygments_lexer": "ipython3",
   "version": "3.11.7"
  }
 },
 "nbformat": 4,
 "nbformat_minor": 5
}
